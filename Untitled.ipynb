{
 "cells": [
  {
   "cell_type": "code",
   "execution_count": 23,
   "id": "8395b7a9-28e0-48db-ad08-d09c18b15332",
   "metadata": {},
   "outputs": [
    {
     "name": "stdin",
     "output_type": "stream",
     "text": [
      "Masukkan pesan yang ingin disembunyikan:  Notgnilreb bapak ni si kepin\n"
     ]
    },
    {
     "name": "stdout",
     "output_type": "stream",
     "text": [
      "Pesan tersembunyi berhasil disisipkan ke mangatur.pdf!\n",
      "Kunci untuk dekripsi: H3CE1nikS68Xq3wZB5FynkbxHce0tkP5AsJYDt6n7Kg=\n"
     ]
    }
   ],
   "source": [
    "from PyPDF2 import PdfReader, PdfWriter\n",
    "from cryptography.fernet import Fernet\n",
    "\n",
    "# Buat kunci enkripsi\n",
    "key = Fernet.generate_key()\n",
    "cipher = Fernet(key)\n",
    "\n",
    "def sisipkan_pesan_ke_metadata(input_pdf, output_pdf):\n",
    "    # Meminta input pesan dari pengguna\n",
    "    pesan_rahasia = input(\"Masukkan pesan yang ingin disembunyikan: \")\n",
    "    \n",
    "    # Enkripsi pesan\n",
    "    pesan_terenkripsi = cipher.encrypt(pesan_rahasia.encode())\n",
    "\n",
    "    # Membaca PDF input\n",
    "    reader = PdfReader(input_pdf)\n",
    "    writer = PdfWriter()\n",
    "\n",
    "    # Tambahkan metadata baru dengan pesan terenkripsi\n",
    "    metadata_baru = {\n",
    "        \"/Author\": \"Steganografi PDFbijak\",\n",
    "        \"/HiddenMessage\": pesan_terenkripsi.decode()  # Simpan pesan sebagai string\n",
    "    }\n",
    "    writer.add_metadata(metadata_baru)\n",
    "\n",
    "    # Salin semua halaman dari PDF asli\n",
    "    for page in reader.pages:\n",
    "        writer.add_page(page)\n",
    "\n",
    "    # Simpan PDF baru dengan metadata\n",
    "    with open(output_pdf, \"wb\") as file_output:\n",
    "        writer.write(file_output)\n",
    "\n",
    "    print(f\"Pesan tersembunyi berhasil disisipkan ke {output_pdf}!\")\n",
    "    print(f\"Kunci untuk dekripsi: {key.decode()}\")\n",
    "\n",
    "# Contoh penggunaan\n",
    "sisipkan_pesan_ke_metadata(\n",
    "    \"C:/Users/frans.DESKTOP-2VMK981.002/Downloads/LaporanMetriks_11422010.pdf\", \n",
    "    \"mangatur.pdf\"\n",
    ")"
   ]
  },
  {
   "cell_type": "code",
   "execution_count": 27,
   "id": "d8e0f2b9-e213-4cd5-811c-b73121d652f2",
   "metadata": {},
   "outputs": [
    {
     "name": "stdin",
     "output_type": "stream",
     "text": [
      "Masukkan kunci enkripsi:  H3CE1nikS68Xq3wZB5FynkbxHce0tkP5AsJYDt6n7Kg=\n"
     ]
    },
    {
     "name": "stdout",
     "output_type": "stream",
     "text": [
      "Pesan rahasia: Notgnilreb bapak ni si kepin\n"
     ]
    }
   ],
   "source": [
    "from PyPDF2 import PdfReader\n",
    "from cryptography.fernet import Fernet\n",
    "\n",
    "def baca_pesan_dari_metadata(pdf_file):\n",
    "    # Membaca file PDF\n",
    "    reader = PdfReader(pdf_file)\n",
    "    metadata = reader.metadata\n",
    "    \n",
    "    # Ambil pesan terenkripsi dari metadata\n",
    "    pesan_terenkripsi = metadata.get(\"/HiddenMessage\")\n",
    "    \n",
    "    if pesan_terenkripsi:\n",
    "        # Meminta kunci enkripsi dari pengguna\n",
    "        key = input(\"Masukkan kunci enkripsi: \").strip()\n",
    "        try:\n",
    "            # Proses dekripsi\n",
    "            cipher = Fernet(key.encode())\n",
    "            pesan_dekripsi = cipher.decrypt(pesan_terenkripsi.encode())\n",
    "            print(f\"Pesan rahasia: {pesan_dekripsi.decode()}\")\n",
    "        except Exception as e:\n",
    "            print(f\"Terjadi kesalahan: {e}\")\n",
    "    else:\n",
    "        print(\"Tidak ada pesan tersembunyi ditemukan.\")\n",
    "\n",
    "# Contoh penggunaan\n",
    "baca_pesan_dari_metadata(\"mangatur.pdf\")\n"
   ]
  },
  {
   "cell_type": "code",
   "execution_count": 21,
   "id": "17be9af2-95d5-4708-b85f-4d0a483008c0",
   "metadata": {},
   "outputs": [
    {
     "name": "stdout",
     "output_type": "stream",
     "text": [
      "Collecting reportlab\n",
      "  Downloading reportlab-4.2.5-py3-none-any.whl.metadata (1.5 kB)\n",
      "Requirement already satisfied: pillow>=9.0.0 in c:\\users\\frans.desktop-2vmk981.002\\anaconda3\\lib\\site-packages (from reportlab) (10.3.0)\n",
      "Requirement already satisfied: chardet in c:\\users\\frans.desktop-2vmk981.002\\anaconda3\\lib\\site-packages (from reportlab) (4.0.0)\n",
      "Downloading reportlab-4.2.5-py3-none-any.whl (1.9 MB)\n",
      "   ---------------------------------------- 0.0/1.9 MB ? eta -:--:--\n",
      "   ---------------------------------------- 0.0/1.9 MB ? eta -:--:--\n",
      "   ---------------------------------------- 0.0/1.9 MB ? eta -:--:--\n",
      "    --------------------------------------- 0.0/1.9 MB 495.5 kB/s eta 0:00:04\n",
      "   - -------------------------------------- 0.1/1.9 MB 469.7 kB/s eta 0:00:05\n",
      "   - -------------------------------------- 0.1/1.9 MB 525.1 kB/s eta 0:00:04\n",
      "   -- ------------------------------------- 0.1/1.9 MB 602.4 kB/s eta 0:00:04\n",
      "   --- ------------------------------------ 0.2/1.9 MB 704.6 kB/s eta 0:00:03\n",
      "   ---- ----------------------------------- 0.2/1.9 MB 692.4 kB/s eta 0:00:03\n",
      "   ----- ---------------------------------- 0.2/1.9 MB 754.9 kB/s eta 0:00:03\n",
      "   ----- ---------------------------------- 0.3/1.9 MB 770.1 kB/s eta 0:00:03\n",
      "   ------ --------------------------------- 0.3/1.9 MB 787.7 kB/s eta 0:00:03\n",
      "   ------- -------------------------------- 0.3/1.9 MB 773.3 kB/s eta 0:00:03\n",
      "   ------- -------------------------------- 0.4/1.9 MB 761.7 kB/s eta 0:00:03\n",
      "   -------- ------------------------------- 0.4/1.9 MB 775.5 kB/s eta 0:00:02\n",
      "   -------- ------------------------------- 0.4/1.9 MB 747.0 kB/s eta 0:00:03\n",
      "   --------- ------------------------------ 0.5/1.9 MB 759.8 kB/s eta 0:00:02\n",
      "   ---------- ----------------------------- 0.5/1.9 MB 770.0 kB/s eta 0:00:02\n",
      "   ---------- ----------------------------- 0.5/1.9 MB 784.0 kB/s eta 0:00:02\n",
      "   ----------- ---------------------------- 0.6/1.9 MB 770.1 kB/s eta 0:00:02\n",
      "   ------------ --------------------------- 0.6/1.9 MB 778.2 kB/s eta 0:00:02\n",
      "   ------------- -------------------------- 0.6/1.9 MB 797.6 kB/s eta 0:00:02\n",
      "   ------------- -------------------------- 0.7/1.9 MB 777.4 kB/s eta 0:00:02\n",
      "   -------------- ------------------------- 0.7/1.9 MB 795.8 kB/s eta 0:00:02\n",
      "   --------------- ------------------------ 0.7/1.9 MB 789.4 kB/s eta 0:00:02\n",
      "   ---------------- ----------------------- 0.8/1.9 MB 816.6 kB/s eta 0:00:02\n",
      "   ---------------- ----------------------- 0.8/1.9 MB 809.0 kB/s eta 0:00:02\n",
      "   ----------------- ---------------------- 0.9/1.9 MB 834.3 kB/s eta 0:00:02\n",
      "   ------------------ --------------------- 0.9/1.9 MB 819.6 kB/s eta 0:00:02\n",
      "   ------------------- -------------------- 0.9/1.9 MB 831.0 kB/s eta 0:00:02\n",
      "   ------------------- -------------------- 1.0/1.9 MB 823.8 kB/s eta 0:00:02\n",
      "   -------------------- ------------------- 1.0/1.9 MB 834.2 kB/s eta 0:00:02\n",
      "   --------------------- ------------------ 1.1/1.9 MB 833.8 kB/s eta 0:00:02\n",
      "   ---------------------- ----------------- 1.1/1.9 MB 847.3 kB/s eta 0:00:01\n",
      "   ----------------------- ---------------- 1.1/1.9 MB 846.3 kB/s eta 0:00:01\n",
      "   ------------------------ --------------- 1.2/1.9 MB 854.6 kB/s eta 0:00:01\n",
      "   ------------------------- -------------- 1.2/1.9 MB 864.7 kB/s eta 0:00:01\n",
      "   -------------------------- ------------- 1.3/1.9 MB 865.0 kB/s eta 0:00:01\n",
      "   -------------------------- ------------- 1.3/1.9 MB 876.3 kB/s eta 0:00:01\n",
      "   ---------------------------- ----------- 1.4/1.9 MB 874.3 kB/s eta 0:00:01\n",
      "   ---------------------------- ----------- 1.4/1.9 MB 876.0 kB/s eta 0:00:01\n",
      "   ----------------------------- ---------- 1.4/1.9 MB 882.2 kB/s eta 0:00:01\n",
      "   ----------------------------- ---------- 1.5/1.9 MB 880.4 kB/s eta 0:00:01\n",
      "   ------------------------------ --------- 1.5/1.9 MB 877.9 kB/s eta 0:00:01\n",
      "   ------------------------------- -------- 1.5/1.9 MB 871.9 kB/s eta 0:00:01\n",
      "   -------------------------------- ------- 1.6/1.9 MB 878.0 kB/s eta 0:00:01\n",
      "   --------------------------------- ------ 1.6/1.9 MB 879.5 kB/s eta 0:00:01\n",
      "   --------------------------------- ------ 1.6/1.9 MB 881.3 kB/s eta 0:00:01\n",
      "   ---------------------------------- ----- 1.7/1.9 MB 881.1 kB/s eta 0:00:01\n",
      "   ----------------------------------- ---- 1.7/1.9 MB 886.1 kB/s eta 0:00:01\n",
      "   ------------------------------------ --- 1.8/1.9 MB 880.6 kB/s eta 0:00:01\n",
      "   ------------------------------------- -- 1.8/1.9 MB 892.4 kB/s eta 0:00:01\n",
      "   -------------------------------------- - 1.9/1.9 MB 887.0 kB/s eta 0:00:01\n",
      "   -------------------------------------- - 1.9/1.9 MB 888.5 kB/s eta 0:00:01\n",
      "   ---------------------------------------  1.9/1.9 MB 892.9 kB/s eta 0:00:01\n",
      "   ---------------------------------------- 1.9/1.9 MB 890.2 kB/s eta 0:00:00\n",
      "Installing collected packages: reportlab\n",
      "Successfully installed reportlab-4.2.5\n",
      "Note: you may need to restart the kernel to use updated packages.\n"
     ]
    }
   ],
   "source": [
    "pip install reportlab\n"
   ]
  },
  {
   "cell_type": "code",
   "execution_count": null,
   "id": "0d7c1ef0-c3d7-42c0-bbeb-82ab8dad7d98",
   "metadata": {},
   "outputs": [],
   "source": []
  }
 ],
 "metadata": {
  "kernelspec": {
   "display_name": "Python 3 (ipykernel)",
   "language": "python",
   "name": "python3"
  },
  "language_info": {
   "codemirror_mode": {
    "name": "ipython",
    "version": 3
   },
   "file_extension": ".py",
   "mimetype": "text/x-python",
   "name": "python",
   "nbconvert_exporter": "python",
   "pygments_lexer": "ipython3",
   "version": "3.12.3"
  }
 },
 "nbformat": 4,
 "nbformat_minor": 5
}
