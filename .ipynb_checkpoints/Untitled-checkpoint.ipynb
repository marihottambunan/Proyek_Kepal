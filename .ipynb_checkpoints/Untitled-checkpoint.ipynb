{
 "cells": [
  {
   "cell_type": "code",
   "execution_count": 15,
   "id": "8395b7a9-28e0-48db-ad08-d09c18b15332",
   "metadata": {},
   "outputs": [
    {
     "name": "stdout",
     "output_type": "stream",
     "text": [
      "Pesan tersembunyi berhasil disisipkan ke mpdfzz.pdf!\n"
     ]
    }
   ],
   "source": [
    "from PyPDF2 import PdfReader, PdfWriter\n",
    "\n",
    "def sisipkan_pesan_ke_metadata(input_pdf, output_pdf, pesan_rahasia):\n",
    "    reader = PdfReader(input_pdf)\n",
    "    writer = PdfWriter()\n",
    "\n",
    "    # Tambahkan metadata baru\n",
    "    metadata_baru = {\n",
    "        \"/Author\": \"Steganografi PDFbijak\",\n",
    "        \"/HiddenMessage\": \"calvin anak bojak\"\n",
    "    }\n",
    "    writer.add_metadata(metadata_baru)\n",
    "\n",
    "    # Salin semua halaman dari PDF asli\n",
    "    for page in reader.pages:\n",
    "        writer.add_page(page)\n",
    "\n",
    "    # Simpan PDF baru dengan metadata\n",
    "    with open(output_pdf, \"wb\") as file_output:\n",
    "        writer.write(file_output)\n",
    "\n",
    "    print(f\"Pesan tersembunyi berhasil disisipkan ke {output_pdf}!\")\n",
    "\n",
    "# Contoh penggunaan\n",
    "sisipkan_pesan_ke_metadata(\"C:/Users/frans.DESKTOP-2VMK981.002/Proyek_KUPEL/mpdfzz.pdf\", \"mpdfzz.pdf\", \"Ini adalah pesan rahasia saya.\")"
   ]
  },
  {
   "cell_type": "code",
   "execution_count": 17,
   "id": "d8e0f2b9-e213-4cd5-811c-b73121d652f2",
   "metadata": {},
   "outputs": [
    {
     "name": "stdout",
     "output_type": "stream",
     "text": [
      "Metadata PDF:\n",
      "/Producer: PyPDF2\n",
      "/Author: Steganografi PDFbijak\n",
      "/HiddenMessage: calvin anak bojak\n",
      "\n",
      "Pesan Tersembunyi:\n",
      "calvin anak bojak\n"
     ]
    }
   ],
   "source": [
    "from PyPDF2 import PdfReader\n",
    "\n",
    "def baca_pesan_dari_metadata(pdf_file):\n",
    "    reader = PdfReader(pdf_file)\n",
    "    metadata = reader.metadata\n",
    "\n",
    "    print(\"Metadata PDF:\")\n",
    "    for key, value in metadata.items():\n",
    "        print(f\"{key}: {value}\")\n",
    "\n",
    "    if \"/HiddenMessage\" in metadata:\n",
    "        print(\"\\nPesan Tersembunyi:\")\n",
    "        print(metadata[\"/HiddenMessage\"])\n",
    "    else:\n",
    "        print(\"\\nTidak ada pesan tersembunyi.\")\n",
    "\n",
    "# Contoh penggunaan\n",
    "baca_pesan_dari_metadata(\"mpdfzz.pdf\")"
   ]
  },
  {
   "cell_type": "code",
   "execution_count": 21,
   "id": "17be9af2-95d5-4708-b85f-4d0a483008c0",
   "metadata": {},
   "outputs": [
    {
     "name": "stdout",
     "output_type": "stream",
     "text": [
      "Collecting reportlab\n",
      "  Downloading reportlab-4.2.5-py3-none-any.whl.metadata (1.5 kB)\n",
      "Requirement already satisfied: pillow>=9.0.0 in c:\\users\\frans.desktop-2vmk981.002\\anaconda3\\lib\\site-packages (from reportlab) (10.3.0)\n",
      "Requirement already satisfied: chardet in c:\\users\\frans.desktop-2vmk981.002\\anaconda3\\lib\\site-packages (from reportlab) (4.0.0)\n",
      "Downloading reportlab-4.2.5-py3-none-any.whl (1.9 MB)\n",
      "   ---------------------------------------- 0.0/1.9 MB ? eta -:--:--\n",
      "   ---------------------------------------- 0.0/1.9 MB ? eta -:--:--\n",
      "   ---------------------------------------- 0.0/1.9 MB ? eta -:--:--\n",
      "    --------------------------------------- 0.0/1.9 MB 495.5 kB/s eta 0:00:04\n",
      "   - -------------------------------------- 0.1/1.9 MB 469.7 kB/s eta 0:00:05\n",
      "   - -------------------------------------- 0.1/1.9 MB 525.1 kB/s eta 0:00:04\n",
      "   -- ------------------------------------- 0.1/1.9 MB 602.4 kB/s eta 0:00:04\n",
      "   --- ------------------------------------ 0.2/1.9 MB 704.6 kB/s eta 0:00:03\n",
      "   ---- ----------------------------------- 0.2/1.9 MB 692.4 kB/s eta 0:00:03\n",
      "   ----- ---------------------------------- 0.2/1.9 MB 754.9 kB/s eta 0:00:03\n",
      "   ----- ---------------------------------- 0.3/1.9 MB 770.1 kB/s eta 0:00:03\n",
      "   ------ --------------------------------- 0.3/1.9 MB 787.7 kB/s eta 0:00:03\n",
      "   ------- -------------------------------- 0.3/1.9 MB 773.3 kB/s eta 0:00:03\n",
      "   ------- -------------------------------- 0.4/1.9 MB 761.7 kB/s eta 0:00:03\n",
      "   -------- ------------------------------- 0.4/1.9 MB 775.5 kB/s eta 0:00:02\n",
      "   -------- ------------------------------- 0.4/1.9 MB 747.0 kB/s eta 0:00:03\n",
      "   --------- ------------------------------ 0.5/1.9 MB 759.8 kB/s eta 0:00:02\n",
      "   ---------- ----------------------------- 0.5/1.9 MB 770.0 kB/s eta 0:00:02\n",
      "   ---------- ----------------------------- 0.5/1.9 MB 784.0 kB/s eta 0:00:02\n",
      "   ----------- ---------------------------- 0.6/1.9 MB 770.1 kB/s eta 0:00:02\n",
      "   ------------ --------------------------- 0.6/1.9 MB 778.2 kB/s eta 0:00:02\n",
      "   ------------- -------------------------- 0.6/1.9 MB 797.6 kB/s eta 0:00:02\n",
      "   ------------- -------------------------- 0.7/1.9 MB 777.4 kB/s eta 0:00:02\n",
      "   -------------- ------------------------- 0.7/1.9 MB 795.8 kB/s eta 0:00:02\n",
      "   --------------- ------------------------ 0.7/1.9 MB 789.4 kB/s eta 0:00:02\n",
      "   ---------------- ----------------------- 0.8/1.9 MB 816.6 kB/s eta 0:00:02\n",
      "   ---------------- ----------------------- 0.8/1.9 MB 809.0 kB/s eta 0:00:02\n",
      "   ----------------- ---------------------- 0.9/1.9 MB 834.3 kB/s eta 0:00:02\n",
      "   ------------------ --------------------- 0.9/1.9 MB 819.6 kB/s eta 0:00:02\n",
      "   ------------------- -------------------- 0.9/1.9 MB 831.0 kB/s eta 0:00:02\n",
      "   ------------------- -------------------- 1.0/1.9 MB 823.8 kB/s eta 0:00:02\n",
      "   -------------------- ------------------- 1.0/1.9 MB 834.2 kB/s eta 0:00:02\n",
      "   --------------------- ------------------ 1.1/1.9 MB 833.8 kB/s eta 0:00:02\n",
      "   ---------------------- ----------------- 1.1/1.9 MB 847.3 kB/s eta 0:00:01\n",
      "   ----------------------- ---------------- 1.1/1.9 MB 846.3 kB/s eta 0:00:01\n",
      "   ------------------------ --------------- 1.2/1.9 MB 854.6 kB/s eta 0:00:01\n",
      "   ------------------------- -------------- 1.2/1.9 MB 864.7 kB/s eta 0:00:01\n",
      "   -------------------------- ------------- 1.3/1.9 MB 865.0 kB/s eta 0:00:01\n",
      "   -------------------------- ------------- 1.3/1.9 MB 876.3 kB/s eta 0:00:01\n",
      "   ---------------------------- ----------- 1.4/1.9 MB 874.3 kB/s eta 0:00:01\n",
      "   ---------------------------- ----------- 1.4/1.9 MB 876.0 kB/s eta 0:00:01\n",
      "   ----------------------------- ---------- 1.4/1.9 MB 882.2 kB/s eta 0:00:01\n",
      "   ----------------------------- ---------- 1.5/1.9 MB 880.4 kB/s eta 0:00:01\n",
      "   ------------------------------ --------- 1.5/1.9 MB 877.9 kB/s eta 0:00:01\n",
      "   ------------------------------- -------- 1.5/1.9 MB 871.9 kB/s eta 0:00:01\n",
      "   -------------------------------- ------- 1.6/1.9 MB 878.0 kB/s eta 0:00:01\n",
      "   --------------------------------- ------ 1.6/1.9 MB 879.5 kB/s eta 0:00:01\n",
      "   --------------------------------- ------ 1.6/1.9 MB 881.3 kB/s eta 0:00:01\n",
      "   ---------------------------------- ----- 1.7/1.9 MB 881.1 kB/s eta 0:00:01\n",
      "   ----------------------------------- ---- 1.7/1.9 MB 886.1 kB/s eta 0:00:01\n",
      "   ------------------------------------ --- 1.8/1.9 MB 880.6 kB/s eta 0:00:01\n",
      "   ------------------------------------- -- 1.8/1.9 MB 892.4 kB/s eta 0:00:01\n",
      "   -------------------------------------- - 1.9/1.9 MB 887.0 kB/s eta 0:00:01\n",
      "   -------------------------------------- - 1.9/1.9 MB 888.5 kB/s eta 0:00:01\n",
      "   ---------------------------------------  1.9/1.9 MB 892.9 kB/s eta 0:00:01\n",
      "   ---------------------------------------- 1.9/1.9 MB 890.2 kB/s eta 0:00:00\n",
      "Installing collected packages: reportlab\n",
      "Successfully installed reportlab-4.2.5\n",
      "Note: you may need to restart the kernel to use updated packages.\n"
     ]
    }
   ],
   "source": [
    "pip install reportlab\n"
   ]
  },
  {
   "cell_type": "code",
   "execution_count": 23,
   "id": "83c31763-e910-4616-8151-b32b8e361de0",
   "metadata": {},
   "outputs": [
    {
     "ename": "FileNotFoundError",
     "evalue": "[Errno 2] No such file or directory: 'file_asli.pdf'",
     "output_type": "error",
     "traceback": [
      "\u001b[1;31m---------------------------------------------------------------------------\u001b[0m",
      "\u001b[1;31mFileNotFoundError\u001b[0m                         Traceback (most recent call last)",
      "Cell \u001b[1;32mIn[23], line 47\u001b[0m\n\u001b[0;32m     44\u001b[0m pesan_rahasia \u001b[38;5;241m=\u001b[39m \u001b[38;5;124m\"\u001b[39m\u001b[38;5;124mIni adalah pesan rahasia yang disisipkan.\u001b[39m\u001b[38;5;124m\"\u001b[39m\n\u001b[0;32m     46\u001b[0m \u001b[38;5;66;03m# Pembuatan\u001b[39;00m\n\u001b[1;32m---> 47\u001b[0m sisipkan_pesan_ke_metadata(input_pdf, output_pdf, pesan_rahasia)\n\u001b[0;32m     49\u001b[0m \u001b[38;5;66;03m# Pembacaan\u001b[39;00m\n\u001b[0;32m     50\u001b[0m baca_pesan_dari_metadata(output_pdf)\n",
      "Cell \u001b[1;32mIn[23], line 6\u001b[0m, in \u001b[0;36msisipkan_pesan_ke_metadata\u001b[1;34m(input_pdf, output_pdf, pesan_rahasia)\u001b[0m\n\u001b[0;32m      5\u001b[0m \u001b[38;5;28;01mdef\u001b[39;00m \u001b[38;5;21msisipkan_pesan_ke_metadata\u001b[39m(input_pdf, output_pdf, pesan_rahasia):\n\u001b[1;32m----> 6\u001b[0m     reader \u001b[38;5;241m=\u001b[39m PdfReader(input_pdf)\n\u001b[0;32m      7\u001b[0m     writer \u001b[38;5;241m=\u001b[39m PdfWriter()\n\u001b[0;32m      9\u001b[0m     \u001b[38;5;66;03m# Tambahkan metadata baru\u001b[39;00m\n",
      "File \u001b[1;32m~\\anaconda3\\Lib\\site-packages\\PyPDF2\\_reader.py:317\u001b[0m, in \u001b[0;36mPdfReader.__init__\u001b[1;34m(self, stream, strict, password)\u001b[0m\n\u001b[0;32m    311\u001b[0m     logger_warning(\n\u001b[0;32m    312\u001b[0m         \u001b[38;5;124m\"\u001b[39m\u001b[38;5;124mPdfReader stream/file object is not in binary mode. \u001b[39m\u001b[38;5;124m\"\u001b[39m\n\u001b[0;32m    313\u001b[0m         \u001b[38;5;124m\"\u001b[39m\u001b[38;5;124mIt may not be read correctly.\u001b[39m\u001b[38;5;124m\"\u001b[39m,\n\u001b[0;32m    314\u001b[0m         \u001b[38;5;18m__name__\u001b[39m,\n\u001b[0;32m    315\u001b[0m     )\n\u001b[0;32m    316\u001b[0m \u001b[38;5;28;01mif\u001b[39;00m \u001b[38;5;28misinstance\u001b[39m(stream, (\u001b[38;5;28mstr\u001b[39m, Path)):\n\u001b[1;32m--> 317\u001b[0m     \u001b[38;5;28;01mwith\u001b[39;00m \u001b[38;5;28mopen\u001b[39m(stream, \u001b[38;5;124m\"\u001b[39m\u001b[38;5;124mrb\u001b[39m\u001b[38;5;124m\"\u001b[39m) \u001b[38;5;28;01mas\u001b[39;00m fh:\n\u001b[0;32m    318\u001b[0m         stream \u001b[38;5;241m=\u001b[39m BytesIO(fh\u001b[38;5;241m.\u001b[39mread())\n\u001b[0;32m    319\u001b[0m \u001b[38;5;28mself\u001b[39m\u001b[38;5;241m.\u001b[39mread(stream)\n",
      "\u001b[1;31mFileNotFoundError\u001b[0m: [Errno 2] No such file or directory: 'file_asli.pdf'"
     ]
    }
   ],
   "source": [
    "from PyPDF2 import PdfReader, PdfWriter\n",
    "from reportlab.pdfgen import canvas\n",
    "\n",
    "# Fungsi Pembuatan\n",
    "def sisipkan_pesan_ke_metadata(input_pdf, output_pdf, pesan_rahasia):\n",
    "    reader = PdfReader(input_pdf)\n",
    "    writer = PdfWriter()\n",
    "\n",
    "    # Tambahkan metadata baru\n",
    "    metadata_baru = {\n",
    "        \"/Author\": \"Steganografi PDF\",\n",
    "        \"/HiddenMessage\": pesan_rahasia\n",
    "    }\n",
    "    writer.add_metadata(metadata_baru)\n",
    "\n",
    "    # Salin semua halaman dari PDF asli\n",
    "    for page in reader.pages:\n",
    "        writer.add_page(page)\n",
    "\n",
    "    # Simpan PDF baru dengan metadata\n",
    "    with open(output_pdf, \"wb\") as file_output:\n",
    "        writer.write(file_output)\n",
    "\n",
    "    print(f\"Pesan tersembunyi berhasil disisipkan ke {output_pdf}!\")\n",
    "\n",
    "# Fungsi Pembacaan\n",
    "def baca_pesan_dari_metadata(pdf_file):\n",
    "    reader = PdfReader(pdf_file)\n",
    "    metadata = reader.metadata\n",
    "\n",
    "    print(\"Metadata PDF:\")\n",
    "    for key, value in metadata.items():\n",
    "        print(f\"{key}: {value}\")\n",
    "\n",
    "    if \"/HiddenMessage\" in metadata:\n",
    "        print(\"\\nPesan Tersembunyi:\")\n",
    "        print(metadata[\"/HiddenMessage\"])\n",
    "    else:\n",
    "        print(\"\\nTidak ada pesan tersembunyi.\")\n",
    "\n",
    "# Eksekusi Program\n",
    "input_pdf = \"file_asli.pdf\"\n",
    "output_pdf = \"file_stegano.pdf\"\n",
    "pesan_rahasia = \"Ini adalah pesan rahasia yang disisipkan.\"\n",
    "\n",
    "# Pembuatan\n",
    "sisipkan_pesan_ke_metadata(input_pdf, output_pdf, pesan_rahasia)\n",
    "\n",
    "# Pembacaan\n",
    "baca_pesan_dari_metadata(output_pdf)\n"
   ]
  },
  {
   "cell_type": "code",
   "execution_count": null,
   "id": "0d7c1ef0-c3d7-42c0-bbeb-82ab8dad7d98",
   "metadata": {},
   "outputs": [],
   "source": []
  }
 ],
 "metadata": {
  "kernelspec": {
   "display_name": "Python 3 (ipykernel)",
   "language": "python",
   "name": "python3"
  },
  "language_info": {
   "codemirror_mode": {
    "name": "ipython",
    "version": 3
   },
   "file_extension": ".py",
   "mimetype": "text/x-python",
   "name": "python",
   "nbconvert_exporter": "python",
   "pygments_lexer": "ipython3",
   "version": "3.12.3"
  }
 },
 "nbformat": 4,
 "nbformat_minor": 5
}
